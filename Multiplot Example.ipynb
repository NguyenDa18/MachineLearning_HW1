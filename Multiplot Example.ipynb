{
 "cells": [
  {
   "cell_type": "code",
   "execution_count": 5,
   "metadata": {
    "collapsed": false
   },
   "outputs": [
    {
     "data": {
      "text/plain": [
       "(0, 1.0)"
      ]
     },
     "execution_count": 5,
     "metadata": {},
     "output_type": "execute_result"
    }
   ],
   "source": [
    "import pandas as pd\n",
    "import matplotlib.pyplot as plt\n",
    "import numpy as np\n",
    "from sklearn.metrics import r2_score\n",
    "\n",
    "batch_sizes = [1,5,10,15,20]\n",
    "\n",
    "# Load dataframes\n",
    "dip_df = pd.read_csv(\"dip-har-eff.csv\")\n",
    "\n",
    "# Gather info\n",
    "dip_rows = dip_df.shape[0]\n",
    "dip_cols = dip_df.shape[1]\n",
    "\n",
    "dip_df = dip_df.values\n",
    "dip_df = dip_df[np.arange(0, dip_rows), :]\n",
    "\n",
    "dip_X = dip_df[:,1]\n",
    "dip_Y = dip_df[:,2]\n",
    "dip_X_max = np.max(dip_X)\n",
    "dip_Y_max = np.max(dip_Y)\n",
    "\n",
    "dip_X = np.true_divide(dip_X, dip_X_max)\n",
    "dip_Y = np.true_divide(dip_Y, dip_Y_max)\n",
    "\n",
    "# Config pyplot\n",
    "plt.xlim(0, max(dip_X))\n",
    "plt.ylim(0, max(dip_Y))"
   ]
  },
  {
   "cell_type": "code",
   "execution_count": 6,
   "metadata": {
    "collapsed": true
   },
   "outputs": [],
   "source": [
    "def calcMean(results):\n",
    "    results_sum = sum(results)\n",
    "    return results_sum / len(results)\n",
    "\n",
    "def calcRSquared(predicted, actual):\n",
    "    return predicted / actual\n",
    "\n",
    "def calc_total_Error(row, col):\n",
    "    return (b1*row+b0 - col)**2\n",
    "\n",
    "def calc_b0_Error(row, col):\n",
    "    return (b1*row+b0 - col)\n",
    "\n",
    "def calc_b1_Error(row, col):\n",
    "    return (b1*row+b0 - col) * row\n",
    "\n",
    "def calc_b2_Error(row, col):\n",
    "    return (b2*row**2 + b1*row+b0 - col) * row**2\n",
    "\n",
    "# helper wrapper function for us to plug in error function to use\n",
    "def useErrorFunction(errorFunction, args):\n",
    "    return errorFunction(*args)\n",
    "    \n",
    "def mse(X,Y, errorFunction):\n",
    "    errorsList = []\n",
    "    for (row, col) in zip(X,Y):\n",
    "        val = useErrorFunction(errorFunction, (row, col))\n",
    "        errorsList.append(val)  \n",
    "    ERROR_SUM = sum(errorsList)\n",
    "    return ERROR_SUM / batchSize\n",
    "\n",
    "def adjustWeight(weight, learn, temp_error):\n",
    "    return weight - learn * temp_error\n",
    "\n",
    "def takeRandomBatch(listLen, batchSize):\n",
    "    return random.sample(range(listLen), batchSize)\n"
   ]
  },
  {
   "cell_type": "markdown",
   "metadata": {},
   "source": [
    "# Gradient Descent Optimization : *Batch Size = 1*"
   ]
  },
  {
   "cell_type": "markdown",
   "metadata": {},
   "source": [
    "# Gradient Descent Optimization : *Batch Size = 5*"
   ]
  },
  {
   "cell_type": "markdown",
   "metadata": {},
   "source": [
    "# Gradient Descent Optimization : *Batch Size=10*"
   ]
  },
  {
   "cell_type": "code",
   "execution_count": 29,
   "metadata": {
    "collapsed": false
   },
   "outputs": [
    {
     "name": "stdout",
     "output_type": "stream",
     "text": [
      " b0: -0.339440965196 b1: 1.08652571774 Error: 0.337417295794\n",
      " b0: -0.261811557783 b1: 1.12639245947 Error: 0.0941275981278\n",
      " b0: -0.223852712778 b1: 1.14397158526 Error: 0.0371423670793\n",
      " b0: -0.204877840747 b1: 1.15091701129 Error: 0.0234159524814\n",
      " b0: -0.194994450672 b1: 1.15280121417 Error: 0.019900274701\n",
      " b0: -0.189471762851 b1: 1.15228854946 Error: 0.018874858088\n",
      " b0: -0.186047317065 b1: 1.15065272369 Error: 0.0184952371959\n",
      " b0: -0.18363900007 b1: 1.14850244509 Error: 0.0183013991897\n",
      " b0: -0.181729140682 b1: 1.14612842769 Error: 0.0181696340968\n",
      " b0: -0.180069985718 b1: 1.14366932753 Error: 0.0180626678621\n",
      "[0.33741729579448598, 0.094127598127837386, 0.037142367079327047, 0.023415952481441727, 0.019900274701017504, 0.018874858087950593, 0.018495237195914831, 0.018301399189694954, 0.018169634096831321, 0.018062667862090698]\n"
     ]
    },
    {
     "data": {
      "image/png": "[encoded data removed]",
      "text/plain": [
       "<matplotlib.figure.Figure at 0x120658b00>"
      ]
     },
     "metadata": {},
     "output_type": "display_data"
    }
   ],
   "source": [
    "import matplotlib.pyplot as plt\n",
    "import random\n",
    "\n",
    "# init weights\n",
    "b1 = 1.0\n",
    "b0 = -0.5\n",
    "batchSize = 10\n",
    "epochs = 100\n",
    "\n",
    "learn = 0.4\n",
    "\n",
    "plt.figure(1)\n",
    "plt.subplot(211)\n",
    "\n",
    "plt.xlabel('Dipnet days fished')\n",
    "plt.ylabel('Dipnet days fished')\n",
    "plt.title('Dipnet fishermen')\n",
    "plt.scatter(dip_X, dip_Y)\n",
    "plt.pause(0.1);\n",
    "\n",
    "batchSample = takeRandomBatch(len(dip_X), batchSize)\n",
    "sample_X = [dip_X[i] for i in sorted(batchSample)]\n",
    "sample_Y = [dip_Y[i] for i in sorted(batchSample)]\n",
    "\n",
    "\n",
    "batch_10_ERRORS = []\n",
    "\n",
    "for i in range(10):\n",
    "    ERROR = mse(dip_X, dip_Y, calc_total_Error)\n",
    "    batch_10_ERRORS.append(ERROR)\n",
    "    b0_temp_error = mse(sample_X, sample_Y, calc_b0_Error)\n",
    "    b1_temp_error = mse(sample_X, sample_Y, calc_b1_Error)\n",
    "    b0 = adjustWeight(b0, learn, b0_temp_error)\n",
    "    b1 = adjustWeight(b1, learn, b1_temp_error)\n",
    "    print(\" b0: \" + str(b0) + \" b1: \" + str(b1) + \" Error: \" + str(ERROR))\n",
    "    # How to plot the graph\n",
    "    X_test = np.arange(0,1,0.1)\n",
    "    plt.plot (X_test, b1*X_test + b0)\n",
    "    plt.pause(0.1)\n",
    "    \n",
    "plt.subplot(212)\n",
    "    \n",
    "print(batch_10_ERRORS)\n",
    "for count, value in enumerate(batch_10_ERRORS):\n",
    "    plt.plot(count,value)\n",
    "    \n",
    "\n",
    "\n",
    "plt.show()"
   ]
  }
 ],
 "metadata": {
  "anaconda-cloud": {},
  "kernelspec": {
   "display_name": "Python 3",
   "language": "python",
   "name": "python3"
  },
  "language_info": {
   "codemirror_mode": {
    "name": "ipython",
    "version": 3
   },
   "file_extension": ".py",
   "mimetype": "text/x-python",
   "name": "python",
   "nbconvert_exporter": "python",
   "pygments_lexer": "ipython3",
   "version": "3.5.2"
  }
 },
 "nbformat": 4,
 "nbformat_minor": 1
}
