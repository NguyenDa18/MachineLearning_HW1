{
 "cells": [
  {
   "cell_type": "markdown",
   "metadata": {},
   "source": [
    "# Homework 1 : Batch Gradient Descent, Cost Optimization\n",
    "\n",
    "## The Problem\n",
    "Implement a linear regression algorithm as a gradient descent optimization that will measure how statistically dependent two variables are and apply the algorithm on the test datasets.\n",
    "\n",
    "- The test dataset is historical fishery harvest and effort data for three groups of stakeholders\n",
    "    1. Dipnet Fishermen\n",
    "    2. Driftnet Fishermen\n",
    "    3. Setnet Fishermen\n",
    "- Data recorded on annual basis for last 15 - 30 years.\n",
    "- Free variable : days fished (or permits issued)\n",
    "- How correlated (or dependent) the harvest is on the fishermen's effort.\n",
    "\n",
    "## The Procedure\n",
    "- Implement regression model as cost optimization algorithm that uses batch gradient descent \n",
    "- The regression model should test function of batch size on model convergence\n",
    "- Show error loss function (Y axis) over time (X axis) as function of tested batch size and number of training epochs\n",
    "- Give all resulting parametric linear correlations for each dataset\n",
    "\n",
    "\n",
    "\n",
    "## The Big Picture\n",
    "- Gradient Descent : optimization algorithm often used for finding the weights or coefficients of machine learning algorithms. It works by having the model make predictions on training data and using the error on the predicitions to update the model in such a way as to reduce error.\n",
    "- The goal is to find model weights that minimize the error of the model on the training dataset\n",
    "\n",
    "The following is pseudocode for gradient descent\n",
    "\n",
    "$ h_b(x) = b_0 + b_1x $\n",
    "\n",
    "```python\n",
    "model = initialization(...)\n",
    "n_epochs = ...\n",
    "train_data = ...\n",
    "for i in n_epochs:\n",
    "    train_data = shuffle(train_data)\n",
    "```\n",
    "\n",
    "We will use the Mean Squared Error as our loss function:\n",
    "ERROR = $ ((b1*X1+b0 - Y1)^2 + (b1*X2+b0 - Y2)^2 + (b1*X3+b0 - Y3)^2) / N $\n",
    "\n",
    "\n",
    "## After fitting the data\n",
    "- Use R squared for goodness of fit\n",
    "- R-squared: Percentage of response variation explain by linear model\n",
    "\n",
    "\n",
    "# _Let's get started..._\n",
    "\n",
    "***"
   ]
  },
  {
   "cell_type": "markdown",
   "metadata": {},
   "source": [
    "## Part 1: Examine the data\n",
    "The first step is to read the csv files, format the datasets as DataFrame objects, and examine the plots with regression lines based on default b0 and b1 weights.\n",
    "Regression is a statistical model representing the relationship between two or more variables.\n",
    "\n",
    "For linear regression, assumptions that will have to be made beforehand include:\n",
    "- The data is uniformly distributed\n",
    "- Hypothesis on free variable is within range\n",
    "- N measurements > parameters\n",
    "- Free variable is continuous"
   ]
  },
  {
   "cell_type": "code",
   "execution_count": 5,
   "metadata": {
    "collapsed": false
   },
   "outputs": [
    {
     "data": {
      "text/plain": [
       "(0, 1.0)"
      ]
     },
     "execution_count": 5,
     "metadata": {},
     "output_type": "execute_result"
    }
   ],
   "source": [
    "import pandas as pd\n",
    "import matplotlib.pyplot as plt\n",
    "import numpy as np\n",
    "from sklearn.metrics import r2_score\n",
    "\n",
    "batch_sizes = [1,5,10,15,20]\n",
    "\n",
    "# Load dataframes\n",
    "dip_df = pd.read_csv(\"dip-har-eff.csv\")\n",
    "\n",
    "# Gather info\n",
    "dip_rows = dip_df.shape[0]\n",
    "dip_cols = dip_df.shape[1]\n",
    "\n",
    "dip_df = dip_df.values\n",
    "dip_df = dip_df[np.arange(0, dip_rows), :]\n",
    "\n",
    "dip_X = dip_df[:,1]\n",
    "dip_Y = dip_df[:,2]\n",
    "dip_X_max = np.max(dip_X)\n",
    "dip_Y_max = np.max(dip_Y)\n",
    "\n",
    "dip_X = np.true_divide(dip_X, dip_X_max)\n",
    "dip_Y = np.true_divide(dip_Y, dip_Y_max)\n",
    "\n",
    "# Config pyplot\n",
    "plt.xlim(0, max(dip_X))\n",
    "plt.ylim(0, max(dip_Y))"
   ]
  },
  {
   "cell_type": "code",
   "execution_count": 6,
   "metadata": {
    "collapsed": true
   },
   "outputs": [],
   "source": [
    "def calcMean(results):\n",
    "    results_sum = sum(results)\n",
    "    return results_sum / len(results)\n",
    "\n",
    "def calcRSquared(predicted, actual):\n",
    "    return predicted / actual\n",
    "\n",
    "def calc_total_Error(row, col):\n",
    "    return (b1*row+b0 - col)**2\n",
    "\n",
    "def calc_b0_Error(row, col):\n",
    "    return (b1*row+b0 - col)\n",
    "\n",
    "def calc_b1_Error(row, col):\n",
    "    return (b1*row+b0 - col) * row\n",
    "\n",
    "def calc_b2_Error(row, col):\n",
    "    return (b2*row**2 + b1*row+b0 - col) * row**2\n",
    "\n",
    "# helper wrapper function for us to plug in error function to use\n",
    "def useErrorFunction(errorFunction, args):\n",
    "    return errorFunction(*args)\n",
    "    \n",
    "def mse(X,Y, errorFunction):\n",
    "    errorsList = []\n",
    "    for (row, col) in zip(X,Y):\n",
    "        val = useErrorFunction(errorFunction, (row, col))\n",
    "        errorsList.append(val)  \n",
    "    ERROR_SUM = sum(errorsList)\n",
    "    return ERROR_SUM / batchSize\n",
    "\n",
    "def adjustWeight(weight, learn, temp_error):\n",
    "    return weight - learn * temp_error\n",
    "\n",
    "def takeRandomBatch(listLen, batchSize):\n",
    "    return random.sample(range(listLen), batchSize)\n"
   ]
  },
  {
   "cell_type": "markdown",
   "metadata": {},
   "source": [
    "# Gradient Descent Optimization : *Batch Size = 1*"
   ]
  },
  {
   "cell_type": "code",
   "execution_count": 3,
   "metadata": {
    "collapsed": false
   },
   "outputs": [
    {
     "ename": "NameError",
     "evalue": "name 'ax2' is not defined",
     "output_type": "error",
     "traceback": [
      "\u001b[0;31m---------------------------------------------------------------------------\u001b[0m",
      "\u001b[0;31mNameError\u001b[0m                                 Traceback (most recent call last)",
      "\u001b[0;32m<ipython-input-3-bd2fd8d772d3>\u001b[0m in \u001b[0;36m<module>\u001b[0;34m()\u001b[0m\n\u001b[1;32m     15\u001b[0m \u001b[0;34m\u001b[0m\u001b[0m\n\u001b[1;32m     16\u001b[0m \u001b[0;34m\u001b[0m\u001b[0m\n\u001b[0;32m---> 17\u001b[0;31m \u001b[0max2\u001b[0m\u001b[0;34m.\u001b[0m\u001b[0mset_xlabel\u001b[0m\u001b[0;34m(\u001b[0m\u001b[0;34m'Dipnet days fished'\u001b[0m\u001b[0;34m)\u001b[0m\u001b[0;34m\u001b[0m\u001b[0m\n\u001b[0m\u001b[1;32m     18\u001b[0m \u001b[0max2\u001b[0m\u001b[0;34m.\u001b[0m\u001b[0mset_ylabel\u001b[0m\u001b[0;34m(\u001b[0m\u001b[0;34m'Dipnet fish harvest'\u001b[0m\u001b[0;34m)\u001b[0m\u001b[0;34m\u001b[0m\u001b[0m\n\u001b[1;32m     19\u001b[0m \u001b[0max2\u001b[0m\u001b[0;34m.\u001b[0m\u001b[0mscatter\u001b[0m\u001b[0;34m(\u001b[0m\u001b[0mdip_X\u001b[0m\u001b[0;34m,\u001b[0m \u001b[0mdip_Y\u001b[0m\u001b[0;34m)\u001b[0m\u001b[0;34m\u001b[0m\u001b[0m\n",
      "\u001b[0;31mNameError\u001b[0m: name 'ax2' is not defined"
     ]
    }
   ],
   "source": [
    "import matplotlib.pyplot as plt\n",
    "\n",
    "# init weights\n",
    "b1 = 1.0\n",
    "b0 = -0.5\n",
    "batchSize = 1\n",
    "\n",
    "learn = 0.4\n",
    "\n",
    "dip_Plot = plt.figure()\n",
    "dip_Plot.suptitle('Dipnet Fishermen', fontsize=14, fontweight='bold')\n",
    "dip_regression = dip_Plot.add_subplot(211)\n",
    "dip_loss = dip_Plot.add_subplot(212)\n",
    "\n",
    "\n",
    "ax2.set_xlabel('Dipnet days fished')\n",
    "ax2.set_ylabel('Dipnet fish harvest')\n",
    "ax2.scatter(dip_X, dip_Y)\n",
    "plt.pause(0.1);\n",
    "\n",
    "\n",
    "batchSample = takeRandomBatch(len(dip_X), batchSize)\n",
    "sample_X = [dip_X[i] for i in sorted(batchSample)]\n",
    "sample_Y = [dip_Y[i] for i in sorted(batchSample)] \n",
    "\n",
    "for i in range(100):\n",
    "    ERROR = mse(dip_X, dip_Y, calc_total_Error)\n",
    "    b0_temp_error = mse(sample_X, sample_Y, calc_b0_Error)\n",
    "    b1_temp_error = mse(sample_X, sample_Y, calc_b1_Error)\n",
    "    b0 = adjustWeight(b0, learn, b0_temp_error)\n",
    "    b1 = adjustWeight(b1, learn, b1_temp_error)\n",
    "    print(\"i: \" + str(i) + \" b0: \" + str(b0) + \" b1: \" + str(b1) + \" Error: \" + str(ERROR))\n",
    "#     dip_loss.plot(i, ERROR)\n",
    "    # How to plot the graph\n",
    "    X_test = np.arange(0,1,0.1)\n",
    "    dip_regression.plot(X_test, b1*X_test + b0)\n",
    "    plt.pause(0.1)\n",
    "\n",
    "plt.show()"
   ]
  },
  {
   "cell_type": "markdown",
   "metadata": {},
   "source": [
    "# Gradient Descent Optimization : *Batch Size = 5*"
   ]
  },
  {
   "cell_type": "code",
   "execution_count": 14,
   "metadata": {
    "collapsed": false
   },
   "outputs": [
    {
     "ename": "AttributeError",
     "evalue": "'numpy.ndarray' object has no attribute 'scatter'",
     "output_type": "error",
     "traceback": [
      "\u001b[0;31m---------------------------------------------------------------------------\u001b[0m",
      "\u001b[0;31mAttributeError\u001b[0m                            Traceback (most recent call last)",
      "\u001b[0;32m<ipython-input-14-b16afa4508f0>\u001b[0m in \u001b[0;36m<module>\u001b[0;34m()\u001b[0m\n\u001b[1;32m     14\u001b[0m \u001b[0;31m# plt.ylabel('Dipnet days fished')\u001b[0m\u001b[0;34m\u001b[0m\u001b[0;34m\u001b[0m\u001b[0m\n\u001b[1;32m     15\u001b[0m \u001b[0;31m# plt.title('Dipnet fishermen')\u001b[0m\u001b[0;34m\u001b[0m\u001b[0;34m\u001b[0m\u001b[0m\n\u001b[0;32m---> 16\u001b[0;31m \u001b[0maxs\u001b[0m\u001b[0;34m[\u001b[0m\u001b[0;36m0\u001b[0m\u001b[0;34m]\u001b[0m\u001b[0;34m.\u001b[0m\u001b[0mscatter\u001b[0m\u001b[0;34m(\u001b[0m\u001b[0mdip_X\u001b[0m\u001b[0;34m,\u001b[0m \u001b[0mdip_Y\u001b[0m\u001b[0;34m)\u001b[0m\u001b[0;34m\u001b[0m\u001b[0m\n\u001b[0m\u001b[1;32m     17\u001b[0m \u001b[0mplt\u001b[0m\u001b[0;34m.\u001b[0m\u001b[0mpause\u001b[0m\u001b[0;34m(\u001b[0m\u001b[0;36m0.1\u001b[0m\u001b[0;34m)\u001b[0m\u001b[0;34m;\u001b[0m\u001b[0;34m\u001b[0m\u001b[0m\n\u001b[1;32m     18\u001b[0m \u001b[0;34m\u001b[0m\u001b[0m\n",
      "\u001b[0;31mAttributeError\u001b[0m: 'numpy.ndarray' object has no attribute 'scatter'"
     ]
    }
   ],
   "source": [
    "import matplotlib.pyplot as plt\n",
    "import random\n",
    "\n",
    "# init weights\n",
    "b1 = 1.0\n",
    "b0 = -0.5\n",
    "batchSize = 5\n",
    "\n",
    "learn = 0.4\n",
    "\n",
    "fig, axs = plt.subplots(5,2,figsize=(5,3))\n",
    "\n",
    "# plt.xlabel('Dipnet days fished')\n",
    "# plt.ylabel('Dipnet days fished')\n",
    "# plt.title('Dipnet fishermen')\n",
    "axs[0].scatter(dip_X, dip_Y)\n",
    "plt.pause(0.1);\n",
    "\n",
    "batchSample = takeRandomBatch(len(dip_X), batchSize)\n",
    "sample_X = [dip_X[i] for i in sorted(batchSample)]\n",
    "sample_Y = [dip_Y[i] for i in sorted(batchSample)]\n",
    "\n",
    "for i in range(10):\n",
    "    ERROR = mse(dip_X, dip_Y, calc_total_Error)\n",
    "    b0_temp_error = mse(sample_X, sample_Y, calc_b0_Error)\n",
    "    b1_temp_error = mse(sample_X, sample_Y, calc_b1_Error)\n",
    "    b0 = adjustWeight(b0, learn, b0_temp_error)\n",
    "    b1 = adjustWeight(b1, learn, b1_temp_error)\n",
    "    print(\" b0: \" + str(b0) + \" b1: \" + str(b1) + \" Error: \" + str(ERROR))\n",
    "    # How to plot the graph\n",
    "    X_test = np.arange(0,1,0.1)\n",
    "    axs[0].plot(X_test, b1*X_test + b0)\n",
    "    axs[1].plot(i, ERROR)\n",
    "    plt.pause(0.1)\n",
    "\n",
    "plt.show()"
   ]
  },
  {
   "cell_type": "markdown",
   "metadata": {},
   "source": [
    "# Gradient Descent Optimization : *Batch Size=10*"
   ]
  },
  {
   "cell_type": "code",
   "execution_count": 29,
   "metadata": {
    "collapsed": false
   },
   "outputs": [
    {
     "name": "stdout",
     "output_type": "stream",
     "text": [
      " b0: -0.339440965196 b1: 1.08652571774 Error: 0.337417295794\n",
      " b0: -0.261811557783 b1: 1.12639245947 Error: 0.0941275981278\n",
      " b0: -0.223852712778 b1: 1.14397158526 Error: 0.0371423670793\n",
      " b0: -0.204877840747 b1: 1.15091701129 Error: 0.0234159524814\n",
      " b0: -0.194994450672 b1: 1.15280121417 Error: 0.019900274701\n",
      " b0: -0.189471762851 b1: 1.15228854946 Error: 0.018874858088\n",
      " b0: -0.186047317065 b1: 1.15065272369 Error: 0.0184952371959\n",
      " b0: -0.18363900007 b1: 1.14850244509 Error: 0.0183013991897\n",
      " b0: -0.181729140682 b1: 1.14612842769 Error: 0.0181696340968\n",
      " b0: -0.180069985718 b1: 1.14366932753 Error: 0.0180626678621\n",
      "[0.33741729579448598, 0.094127598127837386, 0.037142367079327047, 0.023415952481441727, 0.019900274701017504, 0.018874858087950593, 0.018495237195914831, 0.018301399189694954, 0.018169634096831321, 0.018062667862090698]\n"
     ]
    },
    {
     "data": {
      "image/png": "[encoded data removed]",
      "text/plain": [
       "<matplotlib.figure.Figure at 0x120658b00>"
      ]
     },
     "metadata": {},
     "output_type": "display_data"
    }
   ],
   "source": [
    "import matplotlib.pyplot as plt\n",
    "import random\n",
    "\n",
    "# init weights\n",
    "b1 = 1.0\n",
    "b0 = -0.5\n",
    "batchSize = 10\n",
    "epochs = 100\n",
    "\n",
    "learn = 0.4\n",
    "\n",
    "plt.figure(1)\n",
    "plt.subplot(211)\n",
    "\n",
    "plt.xlabel('Dipnet days fished')\n",
    "plt.ylabel('Dipnet days fished')\n",
    "plt.title('Dipnet fishermen')\n",
    "plt.scatter(dip_X, dip_Y)\n",
    "plt.pause(0.1);\n",
    "\n",
    "batchSample = takeRandomBatch(len(dip_X), batchSize)\n",
    "sample_X = [dip_X[i] for i in sorted(batchSample)]\n",
    "sample_Y = [dip_Y[i] for i in sorted(batchSample)]\n",
    "\n",
    "\n",
    "batch_10_ERRORS = []\n",
    "\n",
    "for i in range(10):\n",
    "    ERROR = mse(dip_X, dip_Y, calc_total_Error)\n",
    "    batch_10_ERRORS.append(ERROR)\n",
    "    b0_temp_error = mse(sample_X, sample_Y, calc_b0_Error)\n",
    "    b1_temp_error = mse(sample_X, sample_Y, calc_b1_Error)\n",
    "    b0 = adjustWeight(b0, learn, b0_temp_error)\n",
    "    b1 = adjustWeight(b1, learn, b1_temp_error)\n",
    "    print(\" b0: \" + str(b0) + \" b1: \" + str(b1) + \" Error: \" + str(ERROR))\n",
    "    # How to plot the graph\n",
    "    X_test = np.arange(0,1,0.1)\n",
    "    plt.plot (X_test, b1*X_test + b0)\n",
    "    plt.pause(0.1)\n",
    "    \n",
    "plt.subplot(212)\n",
    "    \n",
    "print(batch_10_ERRORS)\n",
    "for count, value in enumerate(batch_10_ERRORS):\n",
    "    plt.plot(count,value)\n",
    "    \n",
    "\n",
    "\n",
    "plt.show()"
   ]
  },
  {
   "cell_type": "markdown",
   "metadata": {},
   "source": [
    "# Gradient Descent Optimization: *Batch Size=15*"
   ]
  },
  {
   "cell_type": "code",
   "execution_count": 14,
   "metadata": {
    "collapsed": false
   },
   "outputs": [
    {
     "name": "stdout",
     "output_type": "stream",
     "text": [
      " b0: -0.346219197503 b1: 1.08592058905 Error: 0.337417295794\n",
      " b0: -0.274387724022 b1: 1.12148284871 Error: 0.099691065312\n",
      " b0: -0.23974765282 b1: 1.1342557703 Error: 0.0434196024957\n",
      " b0: -0.222001767817 b1: 1.13674067963 Error: 0.0284008992063\n",
      " b0: -0.211945295518 b1: 1.13460603037 Error: 0.0236482402369\n",
      " b0: -0.205403666039 b1: 1.13042171597 Error: 0.0218164476346\n",
      " b0: -0.200483410409 b1: 1.12535250432 Error: 0.020955658193\n",
      " b0: -0.196325498084 b1: 1.11992597608 Error: 0.0204663857108\n",
      " b0: -0.192540000679 b1: 1.11438076891 Error: 0.020135576825\n",
      " b0: -0.188949723344 b1: 1.10882449916 Error: 0.0198787383883\n",
      " b0: -0.185473946711 b1: 1.10330537595 Error: 0.0196599828036\n",
      " b0: -0.182075706153 b1: 1.09784467671 Error: 0.0194634306526\n",
      " b0: -0.178737883919 b1: 1.09245147393 Error: 0.0192818420588\n",
      " b0: -0.175452367338 b1: 1.08712931344 Error: 0.0191118010386\n",
      " b0: -0.172215132216 b1: 1.08187924269 Error: 0.0189516063602\n",
      " b0: -0.169024013181 b1: 1.07670118396 Error: 0.0188003325196\n",
      " b0: -0.165877692525 b1: 1.07159455693 Error: 0.0186574083646\n",
      " b0: -0.162775241589 b1: 1.06655856094 Error: 0.0185224272549\n",
      " b0: -0.15971591273 b1: 1.06159230283 Error: 0.0183950613213\n",
      " b0: -0.156699044919 b1: 1.05669485487 Error: 0.01827502264\n",
      " b0: -0.153724020868 b1: 1.05186528088 Error: 0.0181620455785\n",
      " b0: -0.150790247527 b1: 1.04710264801 Error: 0.0180558787007\n",
      " b0: -0.147897147176 b1: 1.04240603195 Error: 0.0179562809922\n",
      " b0: -0.145044153329 b1: 1.03777451922 Error: 0.0178630200393\n",
      " b0: -0.142230708814 b1: 1.0332072081 Error: 0.0177758710946\n",
      " b0: -0.139456264847 b1: 1.02870320896 Error: 0.017694616545\n",
      " b0: -0.136720280551 b1: 1.02426164433 Error: 0.0176190455654\n",
      " b0: -0.134022222682 b1: 1.01988164881 Error: 0.017548953859\n",
      " b0: -0.131361565453 b1: 1.01556236895 Error: 0.0174841434395\n",
      " b0: -0.128737790389 b1: 1.01130296313 Error: 0.0174244224352\n",
      " b0: -0.12615038622 b1: 1.00710260137 Error: 0.0173696049061\n",
      " b0: -0.123598848764 b1: 1.0029604652 Error: 0.0173195106684\n",
      " b0: -0.121082680834 b1: 0.998875747508 Error: 0.0172739651266\n",
      " b0: -0.118601392134 b1: 0.994847652351 Error: 0.0172327991101\n",
      " b0: -0.116154499168 b1: 0.990875394825 Error: 0.0171958487154\n",
      " b0: -0.113741525139 b1: 0.986958200906 Error: 0.0171629551518\n",
      " b0: -0.111361999862 b1: 0.983095307301 Error: 0.017133964593\n",
      " b0: -0.109015459668 b1: 0.979285961296 Error: 0.0171087280321\n",
      " b0: -0.106701447318 b1: 0.975529420612 Error: 0.0170871011401\n",
      " b0: -0.104419511907 b1: 0.971824953259 Error: 0.0170689441303\n",
      " b0: -0.102169208786 b1: 0.968171837395 Error: 0.0170541216241\n",
      " b0: -0.0999500994646 b1: 0.964569361183 Error: 0.0170425025228\n",
      " b0: -0.0977617515339 b1: 0.961016822654 Error: 0.0170339598818\n",
      " b0: -0.0956037385781 b1: 0.95751352957 Error: 0.0170283707885\n",
      " b0: -0.0934756400923 b1: 0.954058799288 Error: 0.0170256162442\n",
      " b0: -0.0913770414009 b1: 0.950651958628 Error: 0.0170255810486\n",
      " b0: -0.0893075335764 b1: 0.947292343742 Error: 0.0170281536885\n",
      " b0: -0.08726671336 b1: 0.943979299986 Error: 0.0170332262285\n",
      " b0: -0.0852541830828 b1: 0.940712181786 Error: 0.017040694206\n",
      " b0: -0.0832695505883 b1: 0.937490352523 Error: 0.0170504565284\n",
      " b0: -0.0813124291564 b1: 0.934313184397 Error: 0.0170624153735\n",
      " b0: -0.0793824374274 b1: 0.931180058315 Error: 0.0170764760927\n",
      " b0: -0.0774791993283 b1: 0.928090363764 Error: 0.017092547117\n",
      " b0: -0.075602343999 b1: 0.925043498695 Error: 0.0171105398657\n",
      " b0: -0.0737515057205 b1: 0.922038869402 Error: 0.0171303686573\n",
      " b0: -0.0719263238432 b1: 0.919075890412 Error: 0.017151950624\n",
      " b0: -0.070126442717 b1: 0.916153984366 Error: 0.0171752056271\n",
      " b0: -0.0683515116217 b1: 0.91327258191 Error: 0.0172000561764\n",
      " b0: -0.066601184699 b1: 0.910431121581 Error: 0.0172264273506\n",
      " b0: -0.0648751208847 b1: 0.907629049699 Error: 0.0172542467207\n",
      " b0: -0.0631729838426 b1: 0.904865820261 Error: 0.0172834442757\n",
      " b0: -0.0614944418986 b1: 0.90214089483 Error: 0.0173139523498\n",
      " b0: -0.0598391679766 b1: 0.899453742434 Error: 0.0173457055522\n",
      " b0: -0.0582068395341 b1: 0.896803839463 Error: 0.0173786406987\n",
      " b0: -0.0565971385 b1: 0.894190669563 Error: 0.0174126967453\n",
      " b0: -0.055009751212 b1: 0.891613723538 Error: 0.017447814724\n",
      " b0: -0.0534443683562 b1: 0.889072499252 Error: 0.0174839376795\n",
      " b0: -0.051900684906 b1: 0.886566501528 Error: 0.0175210106094\n",
      " b0: -0.0503784000633 b1: 0.884095242054 Error: 0.0175589804039\n",
      " b0: -0.0488772171998 b1: 0.881658239287 Error: 0.0175977957896\n",
      " b0: -0.0473968437989 b1: 0.87925501836 Error: 0.0176374072728\n",
      " b0: -0.0459369913989 b1: 0.876885110986 Error: 0.0176777670862\n",
      " b0: -0.0444973755367 b1: 0.874548055371 Error: 0.0177188291356\n",
      " b0: -0.0430777156926 b1: 0.872243396124 Error: 0.0177605489494\n",
      " b0: -0.0416777352355 b1: 0.869970684165 Error: 0.017802883629\n",
      " b0: -0.0402971613687 b1: 0.867729476638 Error: 0.0178457918002\n",
      " b0: -0.0389357250773 b1: 0.865519336828 Error: 0.0178892335669\n",
      " b0: -0.0375931610753 b1: 0.863339834072 Error: 0.0179331704657\n",
      " b0: -0.0362692077544 b1: 0.86119054368 Error: 0.0179775654215\n",
      " b0: -0.0349636071323 b1: 0.859071046844 Error: 0.0180223827051\n",
      " b0: -0.0336761048032 b1: 0.856980930567 Error: 0.0180675878915\n",
      " b0: -0.0324064498878 b1: 0.854919787573 Error: 0.0181131478192\n",
      " b0: -0.0311543949843 b1: 0.852887216234 Error: 0.0181590305517\n",
      " b0: -0.0299196961208 b1: 0.850882820487 Error: 0.0182052053388\n",
      " b0: -0.0287021127069 b1: 0.848906209762 Error: 0.0182516425802\n",
      " b0: -0.0275014074877 b1: 0.846956998901 Error: 0.0182983137893\n",
      " b0: -0.0263173464967 b1: 0.845034808087 Error: 0.0183451915585\n",
      " b0: -0.0251496990111 b1: 0.843139262766 Error: 0.0183922495255\n",
      " b0: -0.0239982375059 b1: 0.841269993577 Error: 0.0184394623402\n",
      " b0: -0.0228627376106 b1: 0.839426636279 Error: 0.0184868056335\n",
      " b0: -0.0217429780646 b1: 0.837608831681 Error: 0.0185342559854\n",
      " b0: -0.0206387406744 b1: 0.83581622557 Error: 0.0185817908959\n",
      " b0: -0.0195498102712 b1: 0.834048468643 Error: 0.0186293887554\n",
      " b0: -0.0184759746689 b1: 0.83230521644 Error: 0.0186770288165\n",
      " b0: -0.0174170246228 b1: 0.830586129276 Error: 0.0187246911668\n",
      " b0: -0.0163727537886 b1: 0.828890872173 Error: 0.0187723567017\n",
      " b0: -0.0153429586824 b1: 0.827219114798 Error: 0.0188200070992\n",
      " b0: -0.014327438641 b1: 0.825570531397 Error: 0.0188676247944\n",
      " b0: -0.0133259957829 b1: 0.823944800732 Error: 0.0189151929552\n",
      " b0: -0.0123384349696 b1: 0.822341606016 Error: 0.0189626954589\n"
     ]
    },
    {
     "data": {
      "image/png": "[encoded data removed]",
      "text/plain": [
       "<matplotlib.figure.Figure at 0x11fed8a90>"
      ]
     },
     "metadata": {},
     "output_type": "display_data"
    }
   ],
   "source": [
    "import matplotlib.pyplot as plt\n",
    "import random\n",
    "\n",
    "# init weights\n",
    "b1 = 1.0\n",
    "b0 = -0.5\n",
    "batchSize = 15\n",
    "\n",
    "learn = 0.4\n",
    "\n",
    "plt.xlabel('Dipnet days fished')\n",
    "plt.ylabel('Dipnet days fished')\n",
    "plt.title('Dipnet fishermen')\n",
    "plt.scatter(dip_X, dip_Y)\n",
    "plt.pause(0.1);\n",
    "\n",
    "batchSample = takeRandomBatch(len(dip_X), batchSize)\n",
    "sample_X = [dip_X[i] for i in sorted(batchSample)]\n",
    "sample_Y = [dip_Y[i] for i in sorted(batchSample)]\n",
    "\n",
    "for i in range(100):\n",
    "    ERROR = mse(dip_X, dip_Y, calc_total_Error)\n",
    "    b0_temp_error = mse(sample_X, sample_Y, calc_b0_Error)\n",
    "    b1_temp_error = mse(sample_X, sample_Y, calc_b1_Error)\n",
    "    b0 = adjustWeight(b0, learn, b0_temp_error)\n",
    "    b1 = adjustWeight(b1, learn, b1_temp_error)\n",
    "    print(\" b0: \" + str(b0) + \" b1: \" + str(b1) + \" Error: \" + str(ERROR))\n",
    "    # How to plot the graph\n",
    "    X_test = np.arange(0,1,0.1)\n",
    "    plt.plot (X_test, b1*X_test + b0)\n",
    "    plt.pause(0.1)\n",
    "\n",
    "plt.show()"
   ]
  },
  {
   "cell_type": "code",
   "execution_count": 24,
   "metadata": {
    "collapsed": false
   },
   "outputs": [
    {
     "name": "stdout",
     "output_type": "stream",
     "text": [
      "16165.933640975827\n"
     ]
    }
   ],
   "source": [
    "def calcPrediction(b1, b0):\n",
    "    return b1*18513+b0\n",
    "\n",
    "print(calcPrediction(0.873221979884, -0.0248726166641))"
   ]
  }
 ],
 "metadata": {
  "anaconda-cloud": {},
  "kernelspec": {
   "display_name": "Python 3",
   "language": "python",
   "name": "python3"
  },
  "language_info": {
   "codemirror_mode": {
    "name": "ipython",
    "version": 3
   },
   "file_extension": ".py",
   "mimetype": "text/x-python",
   "name": "python",
   "nbconvert_exporter": "python",
   "pygments_lexer": "ipython3",
   "version": "3.5.2"
  }
 },
 "nbformat": 4,
 "nbformat_minor": 1
}
