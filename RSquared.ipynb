{
 "cells": [
  {
   "cell_type": "code",
   "execution_count": 13,
   "metadata": {
    "collapsed": false
   },
   "outputs": [
    {
     "name": "stdout",
     "output_type": "stream",
     "text": [
      "0.5294117647058825\n"
     ]
    }
   ],
   "source": [
    "Y = [2,3,5,4,5]\n",
    "Y_hat = [2.8,3.4,4,4.6,5.2]\n",
    "\n",
    "def calcMean(valSet):\n",
    "    return sum(valSet) / len(valSet)\n",
    "\n",
    "def RSquared(data):\n",
    "    mean = calcMean(data)\n",
    "    mean_diff = map(lambda actual: actual - mean, data)\n",
    "    square_mean_diff = sum(map(lambda val: val**2, mean_diff))\n",
    "    return square_mean_diff\n",
    "\n",
    "predicted_R_square = RSquared(Y_hat)\n",
    "actual_R_square = RSquared(Y)\n",
    "print(predicted_R_square / actual_R_square)"
   ]
  },
  {
   "cell_type": "code",
   "execution_count": null,
   "metadata": {
    "collapsed": true
   },
   "outputs": [],
   "source": []
  }
 ],
 "metadata": {
  "anaconda-cloud": {},
  "kernelspec": {
   "display_name": "Python 3",
   "language": "python",
   "name": "python3"
  },
  "language_info": {
   "codemirror_mode": {
    "name": "ipython",
    "version": 3
   },
   "file_extension": ".py",
   "mimetype": "text/x-python",
   "name": "python",
   "nbconvert_exporter": "python",
   "pygments_lexer": "ipython3",
   "version": "3.5.2"
  }
 },
 "nbformat": 4,
 "nbformat_minor": 1
}
