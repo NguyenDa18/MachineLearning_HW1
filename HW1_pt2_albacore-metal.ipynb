{
 "cells": [
  {
   "cell_type": "markdown",
   "metadata": {},
   "source": [
    "# Homework pt 2 : Albacore Tuna Metals"
   ]
  },
  {
   "cell_type": "markdown",
   "metadata": {},
   "source": [
    "## Part 1: Examine the data\n",
    "The first step is to read the csv files, format the datasets as DataFrame objects, and examine the plots with regression lines based on default b0 and b1 weights.\n",
    "Regression is a statistical model representing the relationship between two or more variables.\n",
    "\n",
    "For linear regression, assumptions that will have to be made beforehand include:\n",
    "- The data is uniformly distributed\n",
    "- Hypothesis on free variable is within range\n",
    "- N measurements > parameters\n",
    "- Free variable is continuous"
   ]
  },
  {
   "cell_type": "code",
   "execution_count": 24,
   "metadata": {
    "collapsed": false
   },
   "outputs": [
    {
     "name": "stdout",
     "output_type": "stream",
     "text": [
      "0     0.074\n",
      "1     0.060\n",
      "2     0.036\n",
      "3     0.369\n",
      "4     0.307\n",
      "5     0.305\n",
      "6     0.103\n",
      "7     0.026\n",
      "8     0.047\n",
      "9     0.059\n",
      "10    0.022\n",
      "11    0.043\n",
      "12    0.060\n",
      "13    0.016\n",
      "14    0.049\n",
      "15    0.028\n",
      "16    0.016\n",
      "17    0.018\n",
      "18    0.176\n",
      "19    0.076\n",
      "20    0.106\n",
      "21    0.100\n",
      "22    0.085\n",
      "23    0.045\n",
      "24    0.044\n",
      "25    0.123\n",
      "26    0.072\n",
      "27    0.037\n",
      "28    0.074\n",
      "29    0.183\n",
      "30    0.031\n",
      "31    0.011\n",
      "32    0.057\n",
      "33    0.031\n",
      "Name: cadmium, dtype: float64\n",
      "0     0.000\n",
      "1     0.017\n",
      "2     0.007\n",
      "3     0.081\n",
      "4     0.062\n",
      "5     0.035\n",
      "6     0.005\n",
      "7     0.220\n",
      "8     0.000\n",
      "9     0.114\n",
      "10    0.180\n",
      "11    0.000\n",
      "12    0.147\n",
      "13    0.000\n",
      "14    0.000\n",
      "15    0.000\n",
      "16    0.075\n",
      "17    0.000\n",
      "18    0.026\n",
      "19    0.000\n",
      "20    0.000\n",
      "21    0.083\n",
      "22    0.044\n",
      "23    0.016\n",
      "24    0.000\n",
      "25    0.000\n",
      "26    0.068\n",
      "27    0.000\n",
      "28    0.000\n",
      "29    0.000\n",
      "30    0.119\n",
      "31    0.000\n",
      "32    0.066\n",
      "33    0.156\n",
      "Name: lead, dtype: float64\n"
     ]
    },
    {
     "ename": "NameError",
     "evalue": "name 'dip_X' is not defined",
     "output_type": "error",
     "traceback": [
      "\u001b[0;31m---------------------------------------------------------------------------\u001b[0m",
      "\u001b[0;31mNameError\u001b[0m                                 Traceback (most recent call last)",
      "\u001b[0;32m<ipython-input-24-f6daf1c83efc>\u001b[0m in \u001b[0;36m<module>\u001b[0;34m()\u001b[0m\n\u001b[1;32m     31\u001b[0m \u001b[0;34m\u001b[0m\u001b[0m\n\u001b[1;32m     32\u001b[0m \u001b[0;31m# Config pyplot\u001b[0m\u001b[0;34m\u001b[0m\u001b[0;34m\u001b[0m\u001b[0m\n\u001b[0;32m---> 33\u001b[0;31m \u001b[0mplt\u001b[0m\u001b[0;34m.\u001b[0m\u001b[0mxlim\u001b[0m\u001b[0;34m(\u001b[0m\u001b[0;36m0\u001b[0m\u001b[0;34m,\u001b[0m \u001b[0mmax\u001b[0m\u001b[0;34m(\u001b[0m\u001b[0mdip_X\u001b[0m\u001b[0;34m)\u001b[0m\u001b[0;34m)\u001b[0m\u001b[0;34m\u001b[0m\u001b[0m\n\u001b[0m\u001b[1;32m     34\u001b[0m \u001b[0mplt\u001b[0m\u001b[0;34m.\u001b[0m\u001b[0mylim\u001b[0m\u001b[0;34m(\u001b[0m\u001b[0;36m0\u001b[0m\u001b[0;34m,\u001b[0m \u001b[0mmax\u001b[0m\u001b[0;34m(\u001b[0m\u001b[0mdip_Y\u001b[0m\u001b[0;34m)\u001b[0m\u001b[0;34m)\u001b[0m\u001b[0;34m\u001b[0m\u001b[0m\n",
      "\u001b[0;31mNameError\u001b[0m: name 'dip_X' is not defined"
     ]
    }
   ],
   "source": [
    "import pandas as pd\n",
    "import matplotlib.pyplot as plt\n",
    "import numpy as np\n",
    "from sklearn.metrics import r2_score\n",
    "\n",
    "batch_sizes = [1,5,10,15,20]\n",
    "\n",
    "# Load dataframes\n",
    "albacore_df = pd.read_csv(\"albacore_metal.csv\")\n",
    "\n",
    "# Gather info\n",
    "# albacore_rows = albacore_df.shape[0]\n",
    "# albacore_cadmium = albacore_df.shape[1]\n",
    "# albacore_mercury = albacore_df.shape[2]\n",
    "# albacore_lead = albacore_df.shape[3]\n",
    "\n",
    "# albacore_df = albacore_df.values\n",
    "# albacore_df = albacore_df[np.arange(0, albacore_rows), :]\n",
    "\n",
    "# albacore_X = albacore_rows[:,1]\n",
    "print(albacore_df.loc[:, 'cadmium'])\n",
    "print(albacore_df.loc[:, 'lead'])\n",
    "\n",
    "# dip_X = dip_df[:,1]\n",
    "# dip_Y = dip_df[:,2]\n",
    "# dip_X_max = np.max(dip_X)\n",
    "# dip_Y_max = np.max(dip_Y)\n",
    "\n",
    "# dip_X = np.true_divide(dip_X, dip_X_max)\n",
    "# dip_Y = np.true_divide(dip_Y, dip_Y_max)\n",
    "\n",
    "# Config pyplot\n",
    "plt.xlim(0, max(dip_X))\n",
    "plt.ylim(0, max(dip_Y))"
   ]
  },
  {
   "cell_type": "code",
   "execution_count": 25,
   "metadata": {
    "collapsed": false
   },
   "outputs": [
    {
     "ename": "NameError",
     "evalue": "name 'albacore_X' is not defined",
     "output_type": "error",
     "traceback": [
      "\u001b[0;31m---------------------------------------------------------------------------\u001b[0m",
      "\u001b[0;31mNameError\u001b[0m                                 Traceback (most recent call last)",
      "\u001b[0;32m<ipython-input-25-e240c56ac07c>\u001b[0m in \u001b[0;36m<module>\u001b[0;34m()\u001b[0m\n\u001b[1;32m     49\u001b[0m \u001b[0mplt\u001b[0m\u001b[0;34m.\u001b[0m\u001b[0mylabel\u001b[0m\u001b[0;34m(\u001b[0m\u001b[0;34m'albacorenet days fished'\u001b[0m\u001b[0;34m)\u001b[0m\u001b[0;34m\u001b[0m\u001b[0m\n\u001b[1;32m     50\u001b[0m \u001b[0mplt\u001b[0m\u001b[0;34m.\u001b[0m\u001b[0mtitle\u001b[0m\u001b[0;34m(\u001b[0m\u001b[0;34m'albacorenet fishermen'\u001b[0m\u001b[0;34m)\u001b[0m\u001b[0;34m\u001b[0m\u001b[0m\n\u001b[0;32m---> 51\u001b[0;31m \u001b[0mplt\u001b[0m\u001b[0;34m.\u001b[0m\u001b[0mscatter\u001b[0m\u001b[0;34m(\u001b[0m\u001b[0malbacore_X\u001b[0m\u001b[0;34m,\u001b[0m \u001b[0malbacore_Y\u001b[0m\u001b[0;34m)\u001b[0m\u001b[0;34m\u001b[0m\u001b[0m\n\u001b[0m\u001b[1;32m     52\u001b[0m \u001b[0mplt\u001b[0m\u001b[0;34m.\u001b[0m\u001b[0mpause\u001b[0m\u001b[0;34m(\u001b[0m\u001b[0;36m0.1\u001b[0m\u001b[0;34m)\u001b[0m\u001b[0;34m;\u001b[0m\u001b[0;34m\u001b[0m\u001b[0m\n\u001b[1;32m     53\u001b[0m \u001b[0;34m\u001b[0m\u001b[0m\n",
      "\u001b[0;31mNameError\u001b[0m: name 'albacore_X' is not defined"
     ]
    }
   ],
   "source": [
    "import matplotlib.pyplot as plt\n",
    "import random\n",
    "\n",
    "def calcMean(results):\n",
    "    results_sum = sum(results)\n",
    "    return results_sum / len(results)\n",
    "\n",
    "def calcRSquared(predicted, actual):\n",
    "    return predicted / actual\n",
    "\n",
    "def calc_total_Error(row, col):\n",
    "    return (b1*row+b0 - col)**2\n",
    "\n",
    "def calc_b0_Error(row, col):\n",
    "    return (b1*row+b0 - col)\n",
    "\n",
    "def calc_b1_Error(row, col):\n",
    "    return (b1*row+b0 - col) * row\n",
    "\n",
    "def calc_b2_Error(row, col):\n",
    "    return (b2*row**2 + b1*row+b0 - col) * row**2\n",
    "\n",
    "# helper wrapper function for us to plug in error function to use\n",
    "def useErrorFunction(errorFunction, args):\n",
    "    return errorFunction(*args)\n",
    "    \n",
    "def mse(X,Y, errorFunction):\n",
    "    errorsList = []\n",
    "    for (row, col) in zip(X,Y):\n",
    "        val = useErrorFunction(errorFunction, (row, col))\n",
    "        errorsList.append(val)  \n",
    "    ERROR_SUM = sum(errorsList)\n",
    "    return ERROR_SUM / batchSize\n",
    "\n",
    "def adjustWeight(weight, learn, temp_error):\n",
    "    return weight - learn * temp_error\n",
    "\n",
    "def takeRandomBatch(listLen, batchSize):\n",
    "    return random.sample(range(listLen), batchSize)\n",
    "\n",
    "# init weights\n",
    "b1 = 1.0\n",
    "b0 = -0.5\n",
    "batchSize = 10\n",
    "\n",
    "learn = 0.4\n",
    "\n",
    "plt.xlabel('albacorenet days fished')\n",
    "plt.ylabel('albacorenet days fished')\n",
    "plt.title('albacorenet fishermen')\n",
    "plt.scatter(albacore_X, albacore_Y)\n",
    "plt.pause(0.1);\n",
    "\n",
    "batchSample = takeRandomBatch(len(albacore_X), batchSize)\n",
    "sample_X = [albacore_X[i] for i in sorted(batchSample)]\n",
    "sample_Y = [albacore_Y[i] for i in sorted(batchSample)]\n",
    "\n",
    "for i in range(100):\n",
    "    ERROR = mse(albacore_X, albacore_Y, calc_total_Error)\n",
    "    b0_temp_error = mse(sample_X, sample_Y, calc_b0_Error)\n",
    "    b1_temp_error = mse(sample_X, sample_Y, calc_b1_Error)\n",
    "    b0 = adjustWeight(b0, learn, b0_temp_error)\n",
    "    b1 = adjustWeight(b1, learn, b1_temp_error)\n",
    "    print(\" b0: \" + str(b0) + \" b1: \" + str(b1) + \" Error: \" + str(ERROR))\n",
    "    # How to plot the graph\n",
    "    X_test = np.arange(0,1,0.1)\n",
    "    plt.plot (X_test, b1*X_test + b0)\n",
    "    plt.pause(0.1)\n",
    "\n",
    "plt.show()"
   ]
  },
  {
   "cell_type": "code",
   "execution_count": 24,
   "metadata": {
    "collapsed": false
   },
   "outputs": [
    {
     "name": "stdout",
     "output_type": "stream",
     "text": [
      "16165.933640975827\n"
     ]
    }
   ],
   "source": [
    "def calcPrediction(b1, b0):\n",
    "    return b1*18513+b0\n",
    "\n",
    "print(calcPrediction(0.873221979884, -0.0248726166641))"
   ]
  },
  {
   "cell_type": "code",
   "execution_count": null,
   "metadata": {
    "collapsed": true
   },
   "outputs": [],
   "source": []
  }
 ],
 "metadata": {
  "anaconda-cloud": {},
  "kernelspec": {
   "display_name": "Python 3",
   "language": "python",
   "name": "python3"
  },
  "language_info": {
   "codemirror_mode": {
    "name": "ipython",
    "version": 3
   },
   "file_extension": ".py",
   "mimetype": "text/x-python",
   "name": "python",
   "nbconvert_exporter": "python",
   "pygments_lexer": "ipython3",
   "version": "3.5.2"
  }
 },
 "nbformat": 4,
 "nbformat_minor": 1
}
