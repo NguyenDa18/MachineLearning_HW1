{
 "cells": [
  {
   "cell_type": "markdown",
   "metadata": {},
   "source": [
    "# Homework part 2 : Albacore metals\n",
    "\n",
    "Pairs:\n",
    "12\n",
    "13\n",
    "21\n",
    "23\n",
    "31\n",
    "32\n",
    "\n"
   ]
  },
  {
   "cell_type": "code",
   "execution_count": 44,
   "metadata": {
    "collapsed": false
   },
   "outputs": [],
   "source": [
    "import pandas as pd\n",
    "import matplotlib.pyplot as plt\n",
    "import random\n",
    "import numpy as np\n",
    "\n",
    "dataset_name = 'dip-har-eff.csv'\n",
    "name = dataset_name.split('.csv')[0]\n",
    "\n",
    "dataset_df = pd.read_csv(\"albacore_metal.csv\")\n",
    "\n",
    "# Gather info\n",
    "dataset_rows = dataset_df.shape[0]\n",
    "\n",
    "dataset_df = dataset_df.values\n",
    "dataset_df = dataset_df[np.arange(0, dataset_rows), :]\n",
    "\n",
    "dataset_X = dataset_df[:,2]\n",
    "dataset_Y = dataset_df[:,3]\n",
    "dataset_X_max = np.max(dataset_X)\n",
    "dataset_Y_max = np.max(dataset_Y)\n",
    "\n",
    "dataset_X = np.true_divide(dataset_X, dataset_X_max)\n",
    "dataset_Y = np.true_divide(dataset_Y, dataset_Y_max)\n"
   ]
  },
  {
   "cell_type": "code",
   "execution_count": 80,
   "metadata": {
    "collapsed": false
   },
   "outputs": [],
   "source": [
    "# Functions\n",
    "def calc_total_Error(row, col):\n",
    "    return (b1*row+b0 - col)**2\n",
    "\n",
    "def calc_b0_Error(row, col):\n",
    "    return (b1*row+b0 - col)\n",
    "\n",
    "def calc_b1_Error(row, col):\n",
    "    return (b1*row+b0 - col) * row\n",
    "\n",
    "# helper wrapper function for us to plug in error function to use\n",
    "def useErrorFunction(errorFunction, args):\n",
    "    return errorFunction(*args)\n",
    "    \n",
    "def mse(X,Y, errorFunction):\n",
    "    errorsList = []\n",
    "    for (row, col) in zip(X,Y):\n",
    "        val = useErrorFunction(errorFunction, (row, col))\n",
    "        errorsList.append(val)\n",
    "    ERROR_MSE = calcMean(errorsList)  \n",
    "    return ERROR_MSE\n",
    "\n",
    "def adjustWeight(weight, learn, temp_error):\n",
    "    return weight - learn * temp_error\n",
    "\n",
    "def takeRandomBatch(listLen, batchSize):\n",
    "    return random.sample(range(listLen), batchSize)\n",
    "\n",
    "# Related to R Squared Error Loss\n",
    "def calc_predicted(b0, b1, data):\n",
    "    predicted_vals = [b1*x + b0 for x in data]\n",
    "    return predicted_vals\n",
    "\n",
    "def calcMean(results):\n",
    "    results_sum = sum(results)\n",
    "    return results_sum / batchSize\n",
    "\n",
    "# sum(y - mean)^2 OR sum(y hat - mean)^2\n",
    "def calcSquareDiff(data):\n",
    "    mean = calcMean(list(data))\n",
    "    mean_diff = [actual - mean for actual in data]\n",
    "    squared_mean_diff = [val**2 for val in mean_diff]\n",
    "    sum_square_mean_diff = sum(squared_mean_diff)\n",
    "    return sum_square_mean_diff\n",
    "\n",
    "# sum(y hat - mean)^2 / sum(y - mean)^2\n",
    "def calcRSquared(actual, predicted):\n",
    "    predicted_R_square = calcSquareDiff(predicted)\n",
    "    actual_R_square = calcSquareDiff(actual)\n",
    "    print('predicted_R_square')\n",
    "    print(predicted_R_square)\n",
    "    print('actual_R_square')\n",
    "    print(actual_R_square)\n",
    "    print('RSquare Value: ')\n",
    "    return predicted_R_square / actual_R_square"
   ]
  },
  {
   "cell_type": "code",
   "execution_count": 81,
   "metadata": {
    "collapsed": false
   },
   "outputs": [
    {
     "name": "stdout",
     "output_type": "stream",
     "text": [
      " b0: -0.499996026275 b1: 0.997489756386 Error: 0.450597124616\n",
      " b0: -0.499657625646 b1: 0.995220440295 Error: 0.450875919728\n",
      " b0: -0.499083857311 b1: 0.993124217251 Error: 0.450914476814\n",
      "---------------------------- RSQUARED FOR MODEL PREDICTION ----------------------------------\n",
      "Tested Values for 0.993124217251x + -0.499083857311: \n",
      "Random X values: \n",
      "[0.2740087135342525, 0.2954833933328699, 0.05696353893154238, 0.8682163188740779, 0.779698917575483]\n",
      "Y values based on model: \n",
      "[-0.22695916816258987, -0.20563214359686377, -0.44251198729809732, 0.36316279477534635, 0.27525401989755222]\n",
      "predicted_R_square\n",
      "0.488860818591\n",
      "actual_R_square\n",
      "0.444068181818\n",
      "RSquare Value: \n",
      "1.10086882737\n"
     ]
    },
    {
     "data": {
      "image/png": "[encoded data removed]",
      "text/plain": [
       "<matplotlib.figure.Figure at 0x11d0909b0>"
      ]
     },
     "metadata": {},
     "output_type": "display_data"
    }
   ],
   "source": [
    "# Start of Regression\n",
    "\n",
    "# init weights\n",
    "b1 = 1.0\n",
    "b0 = -0.5\n",
    "batchSize = 10\n",
    "epochs = 3\n",
    "\n",
    "learn = 0.2\n",
    "\n",
    "plt.figure(figsize=(9,4))\n",
    "\n",
    "plt.subplot(211)\n",
    "\n",
    "plt.xlabel('days fished')\n",
    "plt.ylabel('days fished')\n",
    "plt.title(name + ' Batch Size: ' + str(batchSize) + ', ' + str(epochs) + ' epochs')\n",
    "plt.scatter(dataset_X, dataset_Y)\n",
    "plt.pause(0.1);\n",
    "\n",
    "batchSample = takeRandomBatch(len(dataset_X), batchSize)\n",
    "sample_X = [dataset_X[i] for i in sorted(batchSample)]\n",
    "sample_Y = [dataset_Y[i] for i in sorted(batchSample)]\n",
    "\n",
    "batch_epoch_ERRORS = []\n",
    "for i in range(epochs):\n",
    "    ERROR = mse(dataset_X, dataset_Y, calc_total_Error)\n",
    "    batch_epoch_ERRORS.append(ERROR)\n",
    "    b0_temp_error = mse(sample_X, sample_Y, calc_b0_Error)\n",
    "    b1_temp_error = mse(sample_X, sample_Y, calc_b1_Error)\n",
    "    b0 = adjustWeight(b0, learn, b0_temp_error)\n",
    "    b1 = adjustWeight(b1, learn, b1_temp_error)\n",
    "    print(\" b0: \" + str(b0) + \" b1: \" + str(b1) + \" Error: \" + str(ERROR))\n",
    "    # How to plot the graph\n",
    "    X_test = np.arange(0,1,0.1)\n",
    "    plt.plot (X_test, b1*X_test + b0)\n",
    "    plt.pause(0.1)\n",
    "\n",
    "# Error Analysis with R Squared\n",
    "X_max = np.max(dataset_X).item()\n",
    "random_testing_vals = [random.uniform(0.0, X_max) for _ in range(5)]\n",
    "predicted = calc_predicted(b0,b1,random_testing_vals)\n",
    "print('---------------------------- RSQUARED FOR MODEL PREDICTION ----------------------------------')\n",
    "print('Tested Values for ' + str(b1) + 'x + ' + str(b0) + ': ')\n",
    "print('Random X values: ')\n",
    "print(list(random_testing_vals))\n",
    "\n",
    "print('Y values based on model: ')\n",
    "print(list(predicted))\n",
    "\n",
    "# Calculate R Squared\n",
    "print(calcRSquared(sample_Y, list(predicted)))   \n",
    "\n",
    "plt.subplot(212)\n",
    "plt.xlabel('Iteration')\n",
    "plt.ylabel('Error (MSE)')\n",
    "\n",
    "# Plot for error loss\n",
    "for count, value in enumerate(batch_epoch_ERRORS):\n",
    "    plt.scatter(count,value)\n",
    "\n",
    "plt.show()"
   ]
  },
  {
   "cell_type": "code",
   "execution_count": null,
   "metadata": {
    "collapsed": true
   },
   "outputs": [],
   "source": []
  }
 ],
 "metadata": {
  "anaconda-cloud": {},
  "kernelspec": {
   "display_name": "Python 3",
   "language": "python",
   "name": "python3"
  },
  "language_info": {
   "codemirror_mode": {
    "name": "ipython",
    "version": 3
   },
   "file_extension": ".py",
   "mimetype": "text/x-python",
   "name": "python",
   "nbconvert_exporter": "python",
   "pygments_lexer": "ipython3",
   "version": "3.5.2"
  }
 },
 "nbformat": 4,
 "nbformat_minor": 1
}
