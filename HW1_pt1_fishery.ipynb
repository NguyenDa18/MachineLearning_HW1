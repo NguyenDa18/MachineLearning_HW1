{
 "cells": [
  {
   "cell_type": "markdown",
   "metadata": {},
   "source": [
    "# Homework 1 : Batch Gradient Descent, Cost Optimization\n",
    "\n",
    "## The Problem\n",
    "Implement a linear regression algorithm as a gradient descent optimization that will measure how statistically dependent two variables are and apply the algorithm on the test datasets.\n",
    "\n",
    "- The test dataset is historical fishery harvest and effort data for three groups of stakeholders\n",
    "    1. Dipnet Fishermen\n",
    "    2. Driftnet Fishermen\n",
    "    3. Setnet Fishermen\n",
    "- Data recorded on annual basis for last 15 - 30 years.\n",
    "- Free variable : days fished (or permits issued)\n",
    "- How correlated (or dependent) the harvest is on the fishermen's effort.\n",
    "\n",
    "## The Procedure\n",
    "- Implement regression model as cost optimization algorithm that uses batch gradient descent \n",
    "- The regression model should test function of batch size on model convergence\n",
    "- Show error loss function (Y axis) over time (X axis) as function of tested batch size and number of training epochs\n",
    "- Give all resulting parametric linear correlations for each dataset\n",
    "\n",
    "\n",
    "\n",
    "## The Big Picture\n",
    "- Gradient Descent : optimization algorithm often used for finding the weights or coefficients of machine learning algorithms. It works by having the model make predictions on training data and using the error on the predicitions to update the model in such a way as to reduce error.\n",
    "- The goal is to find model weights that minimize the error of the model on the training dataset\n",
    "\n",
    "The following is pseudocode for gradient descent\n",
    "\n",
    "h_b(x) = b_0 + b_1x\n",
    "\n",
    "```python\n",
    "model = initialization(...)\n",
    "n_epochs = ...\n",
    "train_data = ...\n",
    "for i in n_epochs:\n",
    "    train_data = shuffle(train_data)\n",
    "```\n",
    "\n",
    "We will use the Mean Squared Error as our loss function:\n",
    "ERROR = ((b1*X1+b0 - Y1)**2 + (b1*X2+b0 - Y2)**2 + (b1*X3+b0 - Y3)**2)/3\n",
    "\n",
    "\n",
    "## After fitting the data\n",
    "- Use R squared for goodness of fit\n",
    "- R-squared: Percentage of response variation explain by linear model\n",
    "\n",
    "\n",
    "# _Let's get started..._\n",
    "\n",
    "***"
   ]
  },
  {
   "cell_type": "markdown",
   "metadata": {},
   "source": [
    "## Part 1: Examine the data\n",
    "The first step is to read the csv files, format the datasets as DataFrame objects, and examine the plots with regression lines based on default b0 and b1 weights.\n",
    "Regression is a statistical model representing the relationship between two or more variables.\n",
    "\n",
    "For linear regression, assumptions that will have to be made beforehand include:\n",
    "- The data is uniformly distributed\n",
    "- Hypothesis on free variable is within range\n",
    "- N measurements > parameters\n",
    "- Free variable is continuous"
   ]
  },
  {
   "cell_type": "code",
   "execution_count": 11,
   "metadata": {
    "collapsed": false
   },
   "outputs": [
    {
     "name": "stdout",
     "output_type": "stream",
     "text": [
      "dip: \n",
      "   year  dipnet days fished  dipnet sockeye harvest\n",
      "0  1996               10503                  102821\n",
      "1  1997               11023                  114619\n",
      "2  1998               10802                  103847\n",
      "3  1999               13738                  149504\n",
      "4  2000               12354                   98262\n",
      "drift: \n",
      "   year  total register CI drift gillnet effort  \\\n",
      "0  1975                                     784   \n",
      "1  1976                                     596   \n",
      "2  1977                                     575   \n",
      "3  1978                                     591   \n",
      "4  1979                                     599   \n",
      "\n",
      "   UCI drift gillnet sockeye harvest  \n",
      "0                             368124  \n",
      "1                            1055786  \n",
      "2                            1073098  \n",
      "3                            1803479  \n",
      "4                             454707  \n",
      "set: \n",
      "   year  total registered CI set gillnet effort  \\\n",
      "0  1975                                     758   \n",
      "1  1976                                     719   \n",
      "2  1977                                     733   \n",
      "3  1978                                     747   \n",
      "4  1979                                     749   \n",
      "\n",
      "   UCI set gillnet sockeye harvest  \n",
      "0                           177336  \n",
      "1                           476376  \n",
      "2                           751178  \n",
      "3                           660797  \n",
      "4                           247359  \n",
      " b0: -0.3 b1: 1.4 Error: 0\n"
     ]
    },
    {
     "data": {
      "image/png": "[encoded data removed]",
      "text/plain": [
       "<matplotlib.figure.Figure at 0x11fd91630>"
      ]
     },
     "metadata": {},
     "output_type": "display_data"
    },
    {
     "data": {
      "text/plain": [
       "<matplotlib.collections.PathCollection at 0x11ea97fd0>"
      ]
     },
     "execution_count": 11,
     "metadata": {},
     "output_type": "execute_result"
    }
   ],
   "source": [
    "import pandas as pd\n",
    "import matplotlib.pyplot as plt\n",
    "import numpy as np\n",
    "from sklearn.metrics import r2_score\n",
    "\n",
    "\n",
    "batch_sizes = [1,5,10,15,20]\n",
    "b1 = 1.4\n",
    "b0 = -0.3\n",
    "\n",
    "# Load dataframes\n",
    "dip_df = pd.read_csv(\"dip-har-eff.csv\")\n",
    "drift_df = pd.read_csv(\"drift-har-eff.csv\")\n",
    "set_df = pd.read_csv(\"set-har-eff.csv\")\n",
    "\n",
    "print(\"dip: \")\n",
    "print(dip_df.head())\n",
    "print(\"drift: \")\n",
    "print(drift_df.head())\n",
    "print(\"set: \")\n",
    "print(set_df.head())\n",
    "\n",
    "# Gather info\n",
    "dip_rows = dip_df.shape[0]\n",
    "dip_cols = dip_df.shape[1]\n",
    "\n",
    "\n",
    "dip_df = dip_df.values\n",
    "dip_df = dip_df[np.arange(0, dip_rows), :]\n",
    "\n",
    "dip_X = dip_df[:,1]\n",
    "dip_Y = dip_df[:,2]\n",
    "\n",
    "dip_X_max = np.max(dip_X)\n",
    "dip_Y_max = np.max(dip_Y)\n",
    "\n",
    "dip_X = np.true_divide(dip_X, dip_X_max)\n",
    "dip_Y = np.true_divide(dip_Y, dip_Y_max)\n",
    "\n",
    "\n",
    "# Config pyplot\n",
    "plt.xlim(0, max(dip_X))\n",
    "plt.ylim(0, max(dip_Y))\n",
    "\n",
    "\n",
    "plt.title('Dipnet fishermen')\n",
    "plt.xlabel('Dipnet days fished')\n",
    "plt.ylabel('Dipnet sockeye harvest')\n",
    "plt.scatter(dip_X, dip_Y)\n",
    "plt.plot (X, b1*X + b0)\n",
    "print(\" b0: \" + str(b0) + \" b1: \" + str(b1) + \" Error: \" + str(0))\n",
    "plt.show()\n",
    "\n",
    "drift_X = drift_df.iloc[:,1]\n",
    "drift_Y = drift_df.iloc[:,2]\n",
    "drift_X_max = np.max(drift_X)\n",
    "drift_Y_max = np.max(drift_Y)\n",
    "\n",
    "plt.title('Driftnet fishermen')\n",
    "plt.xlabel('Total register CI drift gillnet effort')\n",
    "plt.ylabel('UCI drift gillnet sockeye harvest')\n",
    "plt.scatter(drift_X, drift_Y)\n",
    "\n",
    "# plt.show()\n",
    "\n",
    "set_X = set_df.iloc[:,1]\n",
    "set_Y = set_df.iloc[:,2]\n",
    "set_X_max = np.max(set_X)\n",
    "set_Y_max = np.max(set_Y)\n",
    "\n",
    "plt.title('Setnet fishermen')\n",
    "plt.xlabel('Total register CI set gillnet effort')\n",
    "plt.ylabel('UCI drift gillnet sockeye harvest')\n",
    "plt.scatter(set_X, set_Y)\n",
    "\n",
    "# plt.show()"
   ]
  },
  {
   "cell_type": "code",
   "execution_count": 15,
   "metadata": {
    "collapsed": false
   },
   "outputs": [
    {
     "name": "stdout",
     "output_type": "stream",
     "text": [
      "1.02113109175e+96 4.23560847965e+91\n"
     ]
    }
   ],
   "source": [
    "# Build the model\n",
    "m = 0\n",
    "c = 0\n",
    "learning_rate = 0.0001\n",
    "\n",
    "epochs = 20\n",
    "\n",
    "n = float(len(dip_X))\n",
    "\n",
    "for i in range(len(dip_X)):\n",
    "    Y_pred = m*dip_X + c\n",
    "    D_m = (-2/n) * sum(dip_X * (dip_Y - Y_pred))\n",
    "    D_c = (-2/n) * sum(dip_Y - Y_pred)\n",
    "    m = m - learning_rate * D_m\n",
    "    c = c - learning_rate * D_c\n",
    "print(m, c)\n",
    "\n"
   ]
  },
  {
   "cell_type": "code",
   "execution_count": null,
   "metadata": {
    "collapsed": true
   },
   "outputs": [],
   "source": [
    "# Mean Squared Error\n",
    "def mse(b1, x1, b0, y1):\n",
    "    return ((predictions) ** 2 + (predictions)**2)"
   ]
  },
  {
   "cell_type": "code",
   "execution_count": null,
   "metadata": {
    "collapsed": true
   },
   "outputs": [],
   "source": [
    "# Root Mean Squared Error\n",
    "ERROR = ((b1*X1+b0 - Y1)**2 + (b1*X2+b0 - Y2)**2 + (b1*X3+b0 - Y3)**2)/3\n",
    "\n",
    "\n",
    "def rmse(predictions, targets):\n",
    "    return np.sqrt(((predictions - targets) ** 2).mean())"
   ]
  },
  {
   "cell_type": "code",
   "execution_count": 12,
   "metadata": {
    "collapsed": false
   },
   "outputs": [
    {
     "data": {
      "image/png": "[encoded data removed]",
      "text/plain": [
       "<matplotlib.figure.Figure at 0x11ce2acf8>"
      ]
     },
     "metadata": {},
     "output_type": "display_data"
    }
   ],
   "source": [
    "# Making predictions\n",
    "Y_pred = m*dip_X + c\n",
    "plt.scatter(dip_X, dip_Y)\n",
    "plt.scatter(dip_X, Y_pred)\n",
    "plt.show()\n"
   ]
  },
  {
   "cell_type": "code",
   "execution_count": null,
   "metadata": {
    "collapsed": true
   },
   "outputs": [],
   "source": [
    "def partialDerivative(Y, Y_pred):\n",
    "    D_m = (-2/n) * sum(X * (Y - Y_pred))\n",
    "    D_c = (-2/n) * sum(Y - Y_pred)\n",
    "    m = m - learning_rate * D_m\n",
    "    c = c - learning_rate * D_c"
   ]
  },
  {
   "cell_type": "code",
   "execution_count": 13,
   "metadata": {
    "collapsed": false
   },
   "outputs": [],
   "source": [
    "def meanSquaredError(N):\n",
    "    actual = 1\n",
    "    predicted = 0\n",
    "    return (1/(2*N))* (sum(actual - predicted) ** 2)"
   ]
  },
  {
   "cell_type": "code",
   "execution_count": 16,
   "metadata": {
    "collapsed": true
   },
   "outputs": [],
   "source": [
    "def calculateCost(theta, X, y):\n",
    "    m = len(y)\n",
    "    predictions = np.dot(X, theta)\n",
    "    cost = (1/2*m) * np.sum(np.square(predictions = y))\n",
    "    return cost"
   ]
  }
 ],
 "metadata": {
  "anaconda-cloud": {},
  "kernelspec": {
   "display_name": "Python 3",
   "language": "python",
   "name": "python3"
  },
  "language_info": {
   "codemirror_mode": {
    "name": "ipython",
    "version": 3
   },
   "file_extension": ".py",
   "mimetype": "text/x-python",
   "name": "python",
   "nbconvert_exporter": "python",
   "pygments_lexer": "ipython3",
   "version": "3.5.2"
  }
 },
 "nbformat": 4,
 "nbformat_minor": 1
}
