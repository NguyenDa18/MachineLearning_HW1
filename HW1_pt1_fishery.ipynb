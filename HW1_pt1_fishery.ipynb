{
 "cells": [
  {
   "cell_type": "markdown",
   "metadata": {},
   "source": [
    "# Homework 1\n",
    "## Batch Gradient Descent, Cost Optimization\n"
   ]
  },
  {
   "cell_type": "markdown",
   "metadata": {},
   "source": [
    "## The Big Picture\n",
    "- Gradient Descent : optimization algorithm often used for finding the weights or coefficients of machine learning algorithms. It works by having the model make predictions on training data and using the error on the predicitions to update the model in such a way as to reduce error.\n",
    "- The gaol is to find model parameters that minimize the error of the model on the training dataset\n",
    "\n",
    "The following is pseudocode for gradient descent\n",
    "\n",
    "```python\n",
    "model = initialization(...)\n",
    "n_epochs = ...\n",
    "train_data = ...\n",
    "for i in n_epochs:\n",
    "    train_data = shuffle(train_data)\n",
    "```\n",
    "\n",
    "\n",
    "\n",
    "\n",
    "## After fitting the data\n",
    "- Use R squared for goodness of fit\n",
    "- R-squared: Percentage of response variation explain by linear model"
   ]
  },
  {
   "cell_type": "markdown",
   "metadata": {},
   "source": [
    "# Examine the data\n",
    "The first step is to format the datasets as DataFrame objects and examine the plots."
   ]
  },
  {
   "cell_type": "code",
   "execution_count": 20,
   "metadata": {
    "collapsed": false
   },
   "outputs": [
    {
     "data": {
      "image/png": "[encoded data removed]",
      "text/plain": [
       "<matplotlib.figure.Figure at 0x11cf59278>"
      ]
     },
     "metadata": {},
     "output_type": "display_data"
    },
    {
     "data": {
      "image/png": "[encoded data removed]",
      "text/plain": [
       "<matplotlib.figure.Figure at 0x12017fb00>"
      ]
     },
     "metadata": {},
     "output_type": "display_data"
    },
    {
     "data": {
      "image/png": "[encoded data removed]",
      "text/plain": [
       "<matplotlib.figure.Figure at 0x120596be0>"
      ]
     },
     "metadata": {},
     "output_type": "display_data"
    }
   ],
   "source": [
    "import pandas as pd\n",
    "import matplotlib.pyplot as plt\n",
    "import numpy as np\n",
    "from sklearn.metrics import r2_score\n",
    "\n",
    "batch_sizes = [1,5,10,15,20]\n",
    "\n",
    "dip_df = pd.read_csv(\"dip-har-eff.csv\")\n",
    "drift_df = pd.read_csv(\"drift-har-eff.csv\")\n",
    "set_df = pd.read_csv(\"set-har-eff.csv\")\n",
    "\n",
    "# dip_df.plot()\n",
    "# plt.xlabel('Dipnet days fished')\n",
    "# plt.ylabel('Dipnet sockeye harvest')\n",
    "\n",
    "# drift_df.plot()\n",
    "# plt.xlabel('Total register CI drift gillnet effort')\n",
    "# plt.ylabel('UCI drift gillnet sockeye harvest')\n",
    "\n",
    "# set_df.plot()\n",
    "# plt.xlabel('Total register CI drift gillnet effort')\n",
    "# plt.ylabel('UCI drift gillnet sockeye harvest')\n",
    "\n",
    "\n",
    "dip_X = dip_df.iloc[:,1]\n",
    "dip_Y = dip_df.iloc[:,2]\n",
    "plt.scatter(dip_X, dip_Y)\n",
    "\n",
    "plt.show()\n",
    "\n",
    "drift_X = drift_df.iloc[:,1]\n",
    "drift_Y = drift_df.iloc[:,2]\n",
    "plt.scatter(drift_X, drift_Y)\n",
    "\n",
    "plt.show()\n",
    "\n",
    "set_X = set_df.iloc[:,1]\n",
    "set_Y = set_df.iloc[:,2]\n",
    "plt.scatter(set_X, set_Y)\n",
    "plt.show()\n",
    "\n",
    "\n",
    "# Show the graphs\n",
    "plt.show()\n",
    "\n"
   ]
  },
  {
   "cell_type": "code",
   "execution_count": 10,
   "metadata": {
    "collapsed": false
   },
   "outputs": [
    {
     "name": "stdout",
     "output_type": "stream",
     "text": [
      "1.02113109175e+96 4.23560847965e+91\n"
     ]
    }
   ],
   "source": [
    "# Build the model\n",
    "m = 0\n",
    "c = 0\n",
    "learning_rate = 0.0001\n",
    "\n",
    "epochs = 20\n",
    "\n",
    "n = float(len(dip_X))\n",
    "\n",
    "for i in range(len(dip_X)):\n",
    "    Y_pred = m*dip_X + c\n",
    "    D_m = (-2/n) * sum(dip_X * (dip_Y - Y_pred))\n",
    "    D_c = (-2/n) * sum(dip_Y - Y_pred)\n",
    "    m = m - learning_rate * D_m\n",
    "    c = c - learning_rate * D_c\n",
    "print(m, c)\n",
    "\n"
   ]
  },
  {
   "cell_type": "code",
   "execution_count": 12,
   "metadata": {
    "collapsed": false
   },
   "outputs": [
    {
     "data": {
      "image/png": "[encoded data removed]",
      "text/plain": [
       "<matplotlib.figure.Figure at 0x11ce2acf8>"
      ]
     },
     "metadata": {},
     "output_type": "display_data"
    }
   ],
   "source": [
    "# Making predictions\n",
    "Y_pred = m*dip_X + c\n",
    "plt.scatter(dip_X, dip_Y)\n",
    "plt.scatter(dip_X, Y_pred)\n",
    "plt.show()\n"
   ]
  },
  {
   "cell_type": "code",
   "execution_count": null,
   "metadata": {
    "collapsed": true
   },
   "outputs": [],
   "source": [
    "def partialDerivative(Y, Y_pred):\n",
    "    D_m = (-2/n) * sum(X * (Y - Y_pred))\n",
    "    D_c = (-2/n) * sum(Y - Y_pred)\n",
    "    m = m - learning_rate * D_m\n",
    "    c = c - learning_rate * D_c"
   ]
  },
  {
   "cell_type": "code",
   "execution_count": 15,
   "metadata": {
    "collapsed": false
   },
   "outputs": [
    {
     "name": "stdout",
     "output_type": "stream",
     "text": [
      "[[37 40]\n",
      " [85 92]]\n"
     ]
    }
   ],
   "source": [
    "import numpy as np\n",
    "\n",
    "a = np.array([[1,2],[3,4]]) \n",
    "b = np.array([[11,12],[13,14]]) \n",
    "print(np.dot(a,b))"
   ]
  },
  {
   "cell_type": "code",
   "execution_count": null,
   "metadata": {
    "collapsed": true
   },
   "outputs": [],
   "source": [
    "def meanSquaredError():\n",
    "    actual = 1\n",
    "    predicted = 0\n",
    "    return (1/n)sum(actual - predicted) ** 2"
   ]
  },
  {
   "cell_type": "code",
   "execution_count": 16,
   "metadata": {
    "collapsed": true
   },
   "outputs": [],
   "source": [
    "def calculateCost(theta, X, y):\n",
    "    m = len(y)\n",
    "    predictions = np.dot(X, theta)\n",
    "    cost = (1/2*m) * np.sum(np.square(predictions = y))\n",
    "    return cost"
   ]
  },
  {
   "cell_type": "code",
   "execution_count": null,
   "metadata": {
    "collapsed": true
   },
   "outputs": [],
   "source": []
  }
 ],
 "metadata": {
  "anaconda-cloud": {},
  "kernelspec": {
   "display_name": "Python 3",
   "language": "python",
   "name": "python3"
  },
  "language_info": {
   "codemirror_mode": {
    "name": "ipython",
    "version": 3
   },
   "file_extension": ".py",
   "mimetype": "text/x-python",
   "name": "python",
   "nbconvert_exporter": "python",
   "pygments_lexer": "ipython3",
   "version": "3.5.2"
  }
 },
 "nbformat": 4,
 "nbformat_minor": 1
}
