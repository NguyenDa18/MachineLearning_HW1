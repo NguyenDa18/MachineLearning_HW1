{
 "cells": [
  {
   "cell_type": "code",
   "execution_count": 1,
   "metadata": {
    "collapsed": false
   },
   "outputs": [
    {
     "name": "stdout",
     "output_type": "stream",
     "text": [
      "   year  total register CI drift gillnet effort  \\\n",
      "0  1975                                     784   \n",
      "1  1976                                     596   \n",
      "2  1977                                     575   \n",
      "3  1978                                     591   \n",
      "4  1979                                     599   \n",
      "\n",
      "   UCI drift gillnet sockeye harvest  \n",
      "0                             368124  \n",
      "1                            1055786  \n",
      "2                            1073098  \n",
      "3                            1803479  \n",
      "4                             454707  \n"
     ]
    }
   ],
   "source": [
    "import pandas as pd\n",
    "\n",
    "dip_df = pd.read_csv(\"dip-har-eff.csv\")\n",
    "drift_df = pd.read_csv(\"drift-har-eff.csv\")\n",
    "set_df = pd.read_csv(\"set-har-eff.csv\")\n",
    "\n",
    "print(drift_df.head(5))"
   ]
  },
  {
   "cell_type": "code",
   "execution_count": null,
   "metadata": {
    "collapsed": true
   },
   "outputs": [],
   "source": []
  }
 ],
 "metadata": {
  "anaconda-cloud": {},
  "kernelspec": {
   "display_name": "Python 3",
   "language": "python",
   "name": "python3"
  },
  "language_info": {
   "codemirror_mode": {
    "name": "ipython",
    "version": 3
   },
   "file_extension": ".py",
   "mimetype": "text/x-python",
   "name": "python",
   "nbconvert_exporter": "python",
   "pygments_lexer": "ipython3",
   "version": "3.5.2"
  }
 },
 "nbformat": 4,
 "nbformat_minor": 1
}
